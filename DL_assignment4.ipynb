{
 "cells": [
  {
   "cell_type": "code",
   "execution_count": 1,
   "metadata": {
    "id": "GI-O80mz1ZiV"
   },
   "outputs": [],
   "source": [
    "import numpy as np \n",
    "import pandas as pd \n",
    "import matplotlib.pyplot as plt \n",
    "from sklearn.preprocessing import MinMaxScaler\n",
    "from keras.models import Sequential\n",
    "from keras.layers import Dense,LSTM,Dropout"
   ]
  },
  {
   "cell_type": "code",
   "execution_count": 4,
   "metadata": {
    "colab": {
     "base_uri": "https://localhost:8080/",
     "height": 206
    },
    "id": "BzkDYb7F1ZiX",
    "outputId": "9dca2452-bbe3-4603-b951-741f52402e05"
   },
   "outputs": [
    {
     "data": {
      "text/html": [
       "\n",
       "  <div id=\"df-48474c8f-9144-4620-ad7e-667fe378472e\">\n",
       "    <div class=\"colab-df-container\">\n",
       "      <div>\n",
       "<style scoped>\n",
       "    .dataframe tbody tr th:only-of-type {\n",
       "        vertical-align: middle;\n",
       "    }\n",
       "\n",
       "    .dataframe tbody tr th {\n",
       "        vertical-align: top;\n",
       "    }\n",
       "\n",
       "    .dataframe thead th {\n",
       "        text-align: right;\n",
       "    }\n",
       "</style>\n",
       "<table border=\"1\" class=\"dataframe\">\n",
       "  <thead>\n",
       "    <tr style=\"text-align: right;\">\n",
       "      <th></th>\n",
       "      <th>Date</th>\n",
       "      <th>Open</th>\n",
       "      <th>High</th>\n",
       "      <th>Low</th>\n",
       "      <th>Close</th>\n",
       "      <th>Adj Close</th>\n",
       "      <th>Volume</th>\n",
       "    </tr>\n",
       "  </thead>\n",
       "  <tbody>\n",
       "    <tr>\n",
       "      <th>0</th>\n",
       "      <td>2018-08-13</td>\n",
       "      <td>1236.979980</td>\n",
       "      <td>1249.272949</td>\n",
       "      <td>1233.640991</td>\n",
       "      <td>1235.010010</td>\n",
       "      <td>1235.010010</td>\n",
       "      <td>997300</td>\n",
       "    </tr>\n",
       "    <tr>\n",
       "      <th>1</th>\n",
       "      <td>2018-08-14</td>\n",
       "      <td>1235.189941</td>\n",
       "      <td>1245.869995</td>\n",
       "      <td>1225.109985</td>\n",
       "      <td>1242.099976</td>\n",
       "      <td>1242.099976</td>\n",
       "      <td>1348100</td>\n",
       "    </tr>\n",
       "    <tr>\n",
       "      <th>2</th>\n",
       "      <td>2018-08-15</td>\n",
       "      <td>1229.260010</td>\n",
       "      <td>1235.239990</td>\n",
       "      <td>1209.510010</td>\n",
       "      <td>1214.380005</td>\n",
       "      <td>1214.380005</td>\n",
       "      <td>1828800</td>\n",
       "    </tr>\n",
       "    <tr>\n",
       "      <th>3</th>\n",
       "      <td>2018-08-16</td>\n",
       "      <td>1224.729980</td>\n",
       "      <td>1226.000000</td>\n",
       "      <td>1202.550049</td>\n",
       "      <td>1206.489990</td>\n",
       "      <td>1206.489990</td>\n",
       "      <td>1343200</td>\n",
       "    </tr>\n",
       "    <tr>\n",
       "      <th>4</th>\n",
       "      <td>2018-08-17</td>\n",
       "      <td>1202.030029</td>\n",
       "      <td>1209.020020</td>\n",
       "      <td>1188.239990</td>\n",
       "      <td>1200.959961</td>\n",
       "      <td>1200.959961</td>\n",
       "      <td>1389600</td>\n",
       "    </tr>\n",
       "  </tbody>\n",
       "</table>\n",
       "</div>\n",
       "      <button class=\"colab-df-convert\" onclick=\"convertToInteractive('df-48474c8f-9144-4620-ad7e-667fe378472e')\"\n",
       "              title=\"Convert this dataframe to an interactive table.\"\n",
       "              style=\"display:none;\">\n",
       "        \n",
       "  <svg xmlns=\"http://www.w3.org/2000/svg\" height=\"24px\"viewBox=\"0 0 24 24\"\n",
       "       width=\"24px\">\n",
       "    <path d=\"M0 0h24v24H0V0z\" fill=\"none\"/>\n",
       "    <path d=\"M18.56 5.44l.94 2.06.94-2.06 2.06-.94-2.06-.94-.94-2.06-.94 2.06-2.06.94zm-11 1L8.5 8.5l.94-2.06 2.06-.94-2.06-.94L8.5 2.5l-.94 2.06-2.06.94zm10 10l.94 2.06.94-2.06 2.06-.94-2.06-.94-.94-2.06-.94 2.06-2.06.94z\"/><path d=\"M17.41 7.96l-1.37-1.37c-.4-.4-.92-.59-1.43-.59-.52 0-1.04.2-1.43.59L10.3 9.45l-7.72 7.72c-.78.78-.78 2.05 0 2.83L4 21.41c.39.39.9.59 1.41.59.51 0 1.02-.2 1.41-.59l7.78-7.78 2.81-2.81c.8-.78.8-2.07 0-2.86zM5.41 20L4 18.59l7.72-7.72 1.47 1.35L5.41 20z\"/>\n",
       "  </svg>\n",
       "      </button>\n",
       "      \n",
       "  <style>\n",
       "    .colab-df-container {\n",
       "      display:flex;\n",
       "      flex-wrap:wrap;\n",
       "      gap: 12px;\n",
       "    }\n",
       "\n",
       "    .colab-df-convert {\n",
       "      background-color: #E8F0FE;\n",
       "      border: none;\n",
       "      border-radius: 50%;\n",
       "      cursor: pointer;\n",
       "      display: none;\n",
       "      fill: #1967D2;\n",
       "      height: 32px;\n",
       "      padding: 0 0 0 0;\n",
       "      width: 32px;\n",
       "    }\n",
       "\n",
       "    .colab-df-convert:hover {\n",
       "      background-color: #E2EBFA;\n",
       "      box-shadow: 0px 1px 2px rgba(60, 64, 67, 0.3), 0px 1px 3px 1px rgba(60, 64, 67, 0.15);\n",
       "      fill: #174EA6;\n",
       "    }\n",
       "\n",
       "    [theme=dark] .colab-df-convert {\n",
       "      background-color: #3B4455;\n",
       "      fill: #D2E3FC;\n",
       "    }\n",
       "\n",
       "    [theme=dark] .colab-df-convert:hover {\n",
       "      background-color: #434B5C;\n",
       "      box-shadow: 0px 1px 3px 1px rgba(0, 0, 0, 0.15);\n",
       "      filter: drop-shadow(0px 1px 2px rgba(0, 0, 0, 0.3));\n",
       "      fill: #FFFFFF;\n",
       "    }\n",
       "  </style>\n",
       "\n",
       "      <script>\n",
       "        const buttonEl =\n",
       "          document.querySelector('#df-48474c8f-9144-4620-ad7e-667fe378472e button.colab-df-convert');\n",
       "        buttonEl.style.display =\n",
       "          google.colab.kernel.accessAllowed ? 'block' : 'none';\n",
       "\n",
       "        async function convertToInteractive(key) {\n",
       "          const element = document.querySelector('#df-48474c8f-9144-4620-ad7e-667fe378472e');\n",
       "          const dataTable =\n",
       "            await google.colab.kernel.invokeFunction('convertToInteractive',\n",
       "                                                     [key], {});\n",
       "          if (!dataTable) return;\n",
       "\n",
       "          const docLinkHtml = 'Like what you see? Visit the ' +\n",
       "            '<a target=\"_blank\" href=https://colab.research.google.com/notebooks/data_table.ipynb>data table notebook</a>'\n",
       "            + ' to learn more about interactive tables.';\n",
       "          element.innerHTML = '';\n",
       "          dataTable['output_type'] = 'display_data';\n",
       "          await google.colab.output.renderOutput(dataTable, element);\n",
       "          const docLink = document.createElement('div');\n",
       "          docLink.innerHTML = docLinkHtml;\n",
       "          element.appendChild(docLink);\n",
       "        }\n",
       "      </script>\n",
       "    </div>\n",
       "  </div>\n",
       "  "
      ],
      "text/plain": [
       "         Date         Open         High          Low        Close  \\\n",
       "0  2018-08-13  1236.979980  1249.272949  1233.640991  1235.010010   \n",
       "1  2018-08-14  1235.189941  1245.869995  1225.109985  1242.099976   \n",
       "2  2018-08-15  1229.260010  1235.239990  1209.510010  1214.380005   \n",
       "3  2018-08-16  1224.729980  1226.000000  1202.550049  1206.489990   \n",
       "4  2018-08-17  1202.030029  1209.020020  1188.239990  1200.959961   \n",
       "\n",
       "     Adj Close   Volume  \n",
       "0  1235.010010   997300  \n",
       "1  1242.099976  1348100  \n",
       "2  1214.380005  1828800  \n",
       "3  1206.489990  1343200  \n",
       "4  1200.959961  1389600  "
      ]
     },
     "execution_count": 4,
     "metadata": {},
     "output_type": "execute_result"
    }
   ],
   "source": [
    "data = pd.read_csv('/content/sample_data/Google_test_data.csv')\n",
    "data.head()"
   ]
  },
  {
   "cell_type": "code",
   "execution_count": 5,
   "metadata": {
    "colab": {
     "base_uri": "https://localhost:8080/"
    },
    "id": "3KiWD9jr1ZiX",
    "outputId": "eef831d9-93a3-4054-bb27-3a14e2173030"
   },
   "outputs": [
    {
     "name": "stdout",
     "output_type": "stream",
     "text": [
      "<class 'pandas.core.frame.DataFrame'>\n",
      "RangeIndex: 252 entries, 0 to 251\n",
      "Data columns (total 7 columns):\n",
      " #   Column     Non-Null Count  Dtype  \n",
      "---  ------     --------------  -----  \n",
      " 0   Date       252 non-null    object \n",
      " 1   Open       252 non-null    float64\n",
      " 2   High       252 non-null    float64\n",
      " 3   Low        252 non-null    float64\n",
      " 4   Close      252 non-null    float64\n",
      " 5   Adj Close  252 non-null    float64\n",
      " 6   Volume     252 non-null    int64  \n",
      "dtypes: float64(5), int64(1), object(1)\n",
      "memory usage: 13.9+ KB\n"
     ]
    }
   ],
   "source": [
    "data.info()"
   ]
  },
  {
   "cell_type": "code",
   "execution_count": 6,
   "metadata": {
    "id": "lhjw3juE1ZiY"
   },
   "outputs": [],
   "source": [
    "data[\"Close\"]=pd.to_numeric(data.Close,errors='coerce')\n",
    "data = data.dropna()\n",
    "trainData = data.iloc[:,4:5].values"
   ]
  },
  {
   "cell_type": "code",
   "execution_count": 7,
   "metadata": {
    "colab": {
     "base_uri": "https://localhost:8080/"
    },
    "id": "GBWXb8Qb1ZiY",
    "outputId": "8fa36098-5a0f-4301-a2ce-aa125e2ddedc"
   },
   "outputs": [
    {
     "name": "stdout",
     "output_type": "stream",
     "text": [
      "<class 'pandas.core.frame.DataFrame'>\n",
      "RangeIndex: 252 entries, 0 to 251\n",
      "Data columns (total 7 columns):\n",
      " #   Column     Non-Null Count  Dtype  \n",
      "---  ------     --------------  -----  \n",
      " 0   Date       252 non-null    object \n",
      " 1   Open       252 non-null    float64\n",
      " 2   High       252 non-null    float64\n",
      " 3   Low        252 non-null    float64\n",
      " 4   Close      252 non-null    float64\n",
      " 5   Adj Close  252 non-null    float64\n",
      " 6   Volume     252 non-null    int64  \n",
      "dtypes: float64(5), int64(1), object(1)\n",
      "memory usage: 13.9+ KB\n"
     ]
    }
   ],
   "source": [
    "data.info()"
   ]
  },
  {
   "cell_type": "code",
   "execution_count": 8,
   "metadata": {
    "colab": {
     "base_uri": "https://localhost:8080/"
    },
    "id": "8NsdLhlD1ZiY",
    "outputId": "fd289c58-e9f6-47ad-91dc-17c3463b2f3c"
   },
   "outputs": [
    {
     "data": {
      "text/plain": [
       "(252, 1)"
      ]
     },
     "execution_count": 8,
     "metadata": {},
     "output_type": "execute_result"
    }
   ],
   "source": [
    "sc = MinMaxScaler(feature_range=(0,1))\n",
    "trainData = sc.fit_transform(trainData)\n",
    "trainData.shape"
   ]
  },
  {
   "cell_type": "code",
   "execution_count": 10,
   "metadata": {
    "id": "x_wIYl681ZiZ"
   },
   "outputs": [],
   "source": [
    "X_train = []\n",
    "y_train = []\n",
    "\n",
    "for i in range (60,200): #60 : timestep // 1149 : length of the data\n",
    "    X_train.append(trainData[i-60:i,0]) \n",
    "    y_train.append(trainData[i,0])\n",
    "\n",
    "X_train,y_train = np.array(X_train),np.array(y_train)"
   ]
  },
  {
   "cell_type": "code",
   "execution_count": 11,
   "metadata": {
    "colab": {
     "base_uri": "https://localhost:8080/"
    },
    "id": "tFkfYIiK1ZiZ",
    "outputId": "dec7386e-b745-40cd-941d-a0dcc8e74b18"
   },
   "outputs": [
    {
     "data": {
      "text/plain": [
       "(140, 60, 1)"
      ]
     },
     "execution_count": 11,
     "metadata": {},
     "output_type": "execute_result"
    }
   ],
   "source": [
    "X_train = np.reshape(X_train,(X_train.shape[0],X_train.shape[1],1)) #adding the batch_size axis\n",
    "X_train.shape"
   ]
  },
  {
   "cell_type": "code",
   "execution_count": 12,
   "metadata": {
    "id": "t1YT3DqW1Zia"
   },
   "outputs": [],
   "source": [
    "model = Sequential()\n",
    "\n",
    "model.add(LSTM(units=100, return_sequences = True, input_shape =(X_train.shape[1],1)))\n",
    "model.add(Dropout(0.2))\n",
    "\n",
    "model.add(LSTM(units=100, return_sequences = True))\n",
    "model.add(Dropout(0.2))\n",
    "\n",
    "model.add(LSTM(units=100, return_sequences = True))\n",
    "model.add(Dropout(0.2))\n",
    "\n",
    "model.add(LSTM(units=100, return_sequences = False))\n",
    "model.add(Dropout(0.2))\n",
    "\n",
    "model.add(Dense(units =1))\n",
    "model.compile(optimizer='adam',loss=\"mean_squared_error\")"
   ]
  },
  {
   "cell_type": "code",
   "execution_count": 13,
   "metadata": {
    "colab": {
     "base_uri": "https://localhost:8080/"
    },
    "id": "oSyNuO0s1Zia",
    "outputId": "888a6938-89c2-4d97-9f38-22a1effaacdb"
   },
   "outputs": [
    {
     "name": "stdout",
     "output_type": "stream",
     "text": [
      "Epoch 1/20\n",
      "5/5 - 11s - loss: 0.1340 - 11s/epoch - 2s/step\n",
      "Epoch 2/20\n",
      "5/5 - 1s - loss: 0.0401 - 1s/epoch - 216ms/step\n",
      "Epoch 3/20\n",
      "5/5 - 1s - loss: 0.0265 - 1s/epoch - 214ms/step\n",
      "Epoch 4/20\n",
      "5/5 - 1s - loss: 0.0252 - 1s/epoch - 214ms/step\n",
      "Epoch 5/20\n",
      "5/5 - 2s - loss: 0.0230 - 2s/epoch - 354ms/step\n",
      "Epoch 6/20\n",
      "5/5 - 2s - loss: 0.0193 - 2s/epoch - 340ms/step\n",
      "Epoch 7/20\n",
      "5/5 - 1s - loss: 0.0179 - 1s/epoch - 214ms/step\n",
      "Epoch 8/20\n",
      "5/5 - 1s - loss: 0.0165 - 1s/epoch - 216ms/step\n",
      "Epoch 9/20\n",
      "5/5 - 1s - loss: 0.0183 - 1s/epoch - 214ms/step\n",
      "Epoch 10/20\n",
      "5/5 - 1s - loss: 0.0143 - 1s/epoch - 216ms/step\n",
      "Epoch 11/20\n",
      "5/5 - 1s - loss: 0.0155 - 1s/epoch - 221ms/step\n",
      "Epoch 12/20\n",
      "5/5 - 1s - loss: 0.0137 - 1s/epoch - 214ms/step\n",
      "Epoch 13/20\n",
      "5/5 - 1s - loss: 0.0123 - 1s/epoch - 213ms/step\n",
      "Epoch 14/20\n",
      "5/5 - 1s - loss: 0.0137 - 1s/epoch - 217ms/step\n",
      "Epoch 15/20\n",
      "5/5 - 1s - loss: 0.0131 - 1s/epoch - 212ms/step\n",
      "Epoch 16/20\n",
      "5/5 - 2s - loss: 0.0145 - 2s/epoch - 361ms/step\n",
      "Epoch 17/20\n",
      "5/5 - 2s - loss: 0.0172 - 2s/epoch - 321ms/step\n",
      "Epoch 18/20\n",
      "5/5 - 1s - loss: 0.0179 - 1s/epoch - 216ms/step\n",
      "Epoch 19/20\n",
      "5/5 - 1s - loss: 0.0151 - 1s/epoch - 213ms/step\n",
      "Epoch 20/20\n",
      "5/5 - 1s - loss: 0.0143 - 1s/epoch - 214ms/step\n"
     ]
    }
   ],
   "source": [
    "hist = model.fit(X_train, y_train, epochs = 20, batch_size = 32, verbose=2)"
   ]
  },
  {
   "cell_type": "code",
   "execution_count": 14,
   "metadata": {
    "colab": {
     "base_uri": "https://localhost:8080/",
     "height": 472
    },
    "id": "JczBU-oo1Zia",
    "outputId": "fe68ada5-d316-44f7-f0cf-35701202ac75"
   },
   "outputs": [
    {
     "data": {
      "image/png": "[encoded data removed]",
      "text/plain": [
       "<Figure size 640x480 with 1 Axes>"
      ]
     },
     "metadata": {},
     "output_type": "display_data"
    }
   ],
   "source": [
    "plt.plot(hist.history['loss'])\n",
    "plt.title('Training model loss')\n",
    "plt.ylabel('loss')\n",
    "plt.xlabel('epoch')\n",
    "plt.legend(['train'], loc='upper left')\n",
    "plt.show()"
   ]
  },
  {
   "cell_type": "code",
   "execution_count": 16,
   "metadata": {
    "colab": {
     "base_uri": "https://localhost:8080/"
    },
    "id": "ttFzVXFn1Zib",
    "outputId": "4c35ff62-743c-4fdc-c983-0016f9f8fbe8"
   },
   "outputs": [
    {
     "data": {
      "text/plain": [
       "(192, 60, 1)"
      ]
     },
     "execution_count": 16,
     "metadata": {},
     "output_type": "execute_result"
    }
   ],
   "source": [
    "testData = pd.read_csv('/content/sample_data/Google_test_data.csv')\n",
    "testData[\"Close\"]=pd.to_numeric(testData.Close,errors='coerce')\n",
    "testData = testData.dropna()\n",
    "testData = testData.iloc[:,4:5]\n",
    "y_test = testData.iloc[60:,0:].values \n",
    "#input array for the model\n",
    "inputClosing = testData.iloc[:,0:].values \n",
    "inputClosing_scaled = sc.transform(inputClosing)\n",
    "inputClosing_scaled.shape\n",
    "X_test = []\n",
    "length = len(testData)\n",
    "timestep = 60\n",
    "for i in range(timestep,length):  \n",
    "    X_test.append(inputClosing_scaled[i-timestep:i,0])\n",
    "X_test = np.array(X_test)\n",
    "X_test = np.reshape(X_test,(X_test.shape[0],X_test.shape[1],1))\n",
    "X_test.shape"
   ]
  },
  {
   "cell_type": "code",
   "execution_count": 17,
   "metadata": {
    "colab": {
     "base_uri": "https://localhost:8080/"
    },
    "id": "oQ6dEDMo1Zic",
    "outputId": "9792cd19-a9c4-4cea-b610-761edc854c0a"
   },
   "outputs": [
    {
     "name": "stdout",
     "output_type": "stream",
     "text": [
      "6/6 [==============================] - 2s 70ms/step\n"
     ]
    },
    {
     "data": {
      "text/plain": [
       "array([[0.29379743],\n",
       "       [0.28241763],\n",
       "       [0.27290997],\n",
       "       [0.26585189],\n",
       "       [0.2613183 ],\n",
       "       [0.25864777],\n",
       "       [0.25698102],\n",
       "       [0.25567225],\n",
       "       [0.25465122],\n",
       "       [0.2540055 ],\n",
       "       [0.2532112 ],\n",
       "       [0.25177026],\n",
       "       [0.24952808],\n",
       "       [0.24635728],\n",
       "       [0.24260041],\n",
       "       [0.23868366],\n",
       "       [0.23565601],\n",
       "       [0.23455289],\n",
       "       [0.23617788],\n",
       "       [0.24113   ],\n",
       "       [0.248706  ],\n",
       "       [0.2580446 ],\n",
       "       [0.26775575],\n",
       "       [0.27661383],\n",
       "       [0.28391865],\n",
       "       [0.2895643 ],\n",
       "       [0.29371902],\n",
       "       [0.29633832],\n",
       "       [0.29697928],\n",
       "       [0.2954461 ],\n",
       "       [0.29172054],\n",
       "       [0.28575176],\n",
       "       [0.27716917],\n",
       "       [0.26571956],\n",
       "       [0.25238836],\n",
       "       [0.23858978],\n",
       "       [0.22554824],\n",
       "       [0.21413831],\n",
       "       [0.20502685],\n",
       "       [0.19814874],\n",
       "       [0.19394487],\n",
       "       [0.1927978 ],\n",
       "       [0.19496053],\n",
       "       [0.20042598],\n",
       "       [0.2088266 ],\n",
       "       [0.2193414 ],\n",
       "       [0.23086432],\n",
       "       [0.24283212],\n",
       "       [0.2549998 ],\n",
       "       [0.2673889 ],\n",
       "       [0.2801588 ],\n",
       "       [0.2929467 ],\n",
       "       [0.3053006 ],\n",
       "       [0.31681615],\n",
       "       [0.32740426],\n",
       "       [0.3367764 ],\n",
       "       [0.34452796],\n",
       "       [0.35079855],\n",
       "       [0.35634786],\n",
       "       [0.36189204],\n",
       "       [0.36829838],\n",
       "       [0.37641954],\n",
       "       [0.38622943],\n",
       "       [0.39697534],\n",
       "       [0.4076813 ],\n",
       "       [0.41746128],\n",
       "       [0.4261231 ],\n",
       "       [0.43372235],\n",
       "       [0.4404299 ],\n",
       "       [0.44627184],\n",
       "       [0.45131376],\n",
       "       [0.4555593 ],\n",
       "       [0.45869884],\n",
       "       [0.46066245],\n",
       "       [0.46150964],\n",
       "       [0.46145487],\n",
       "       [0.46078894],\n",
       "       [0.45982617],\n",
       "       [0.45920283],\n",
       "       [0.45958713],\n",
       "       [0.46166357],\n",
       "       [0.46580657],\n",
       "       [0.47176507],\n",
       "       [0.4790259 ],\n",
       "       [0.48756734],\n",
       "       [0.4976964 ],\n",
       "       [0.5095986 ],\n",
       "       [0.523067  ],\n",
       "       [0.5376331 ],\n",
       "       [0.5527061 ],\n",
       "       [0.5679217 ],\n",
       "       [0.5834164 ],\n",
       "       [0.59944504],\n",
       "       [0.61562747],\n",
       "       [0.63116425],\n",
       "       [0.6450753 ],\n",
       "       [0.65638256],\n",
       "       [0.6643545 ],\n",
       "       [0.66874206],\n",
       "       [0.6700331 ],\n",
       "       [0.6690907 ],\n",
       "       [0.66684574],\n",
       "       [0.66427034],\n",
       "       [0.6619542 ],\n",
       "       [0.6601532 ],\n",
       "       [0.65879464],\n",
       "       [0.6577865 ],\n",
       "       [0.6570718 ],\n",
       "       [0.6568114 ],\n",
       "       [0.65721613],\n",
       "       [0.65851307],\n",
       "       [0.6609603 ],\n",
       "       [0.6646772 ],\n",
       "       [0.66981655],\n",
       "       [0.67665726],\n",
       "       [0.6850956 ],\n",
       "       [0.69494766],\n",
       "       [0.70603937],\n",
       "       [0.71834487],\n",
       "       [0.72986   ],\n",
       "       [0.7382853 ],\n",
       "       [0.7418482 ],\n",
       "       [0.74005854],\n",
       "       [0.7333063 ],\n",
       "       [0.72218823],\n",
       "       [0.7074047 ],\n",
       "       [0.68973887],\n",
       "       [0.67007416],\n",
       "       [0.64875674],\n",
       "       [0.6259219 ],\n",
       "       [0.6025938 ],\n",
       "       [0.580172  ],\n",
       "       [0.55961984],\n",
       "       [0.541174  ],\n",
       "       [0.5249712 ],\n",
       "       [0.51108646],\n",
       "       [0.49933028],\n",
       "       [0.48933017],\n",
       "       [0.48074576],\n",
       "       [0.4729989 ],\n",
       "       [0.46564773],\n",
       "       [0.4581781 ],\n",
       "       [0.4491142 ],\n",
       "       [0.43753305],\n",
       "       [0.42292926],\n",
       "       [0.40533876],\n",
       "       [0.38558942],\n",
       "       [0.36502463],\n",
       "       [0.34497532],\n",
       "       [0.3265142 ],\n",
       "       [0.31059545],\n",
       "       [0.29781035],\n",
       "       [0.28851786],\n",
       "       [0.28297636],\n",
       "       [0.28120226],\n",
       "       [0.28310296],\n",
       "       [0.2885627 ],\n",
       "       [0.2971907 ],\n",
       "       [0.30791607],\n",
       "       [0.31944323],\n",
       "       [0.33054468],\n",
       "       [0.34038213],\n",
       "       [0.34876058],\n",
       "       [0.35600194],\n",
       "       [0.3627393 ],\n",
       "       [0.36971742],\n",
       "       [0.37724018],\n",
       "       [0.38546556],\n",
       "       [0.3946498 ],\n",
       "       [0.4049681 ],\n",
       "       [0.4164293 ],\n",
       "       [0.4289525 ],\n",
       "       [0.44236672],\n",
       "       [0.45626795],\n",
       "       [0.47016504],\n",
       "       [0.48328254],\n",
       "       [0.49507383],\n",
       "       [0.5053271 ],\n",
       "       [0.51386476],\n",
       "       [0.5204761 ],\n",
       "       [0.527205  ],\n",
       "       [0.5359513 ],\n",
       "       [0.5477202 ],\n",
       "       [0.56256545],\n",
       "       [0.57979953],\n",
       "       [0.59814376],\n",
       "       [0.61551243],\n",
       "       [0.6304023 ],\n",
       "       [0.6419503 ],\n",
       "       [0.65039915],\n",
       "       [0.6560579 ],\n",
       "       [0.65905684]], dtype=float32)"
      ]
     },
     "execution_count": 17,
     "metadata": {},
     "output_type": "execute_result"
    }
   ],
   "source": [
    "y_pred = model.predict(X_test)\n",
    "y_pred"
   ]
  },
  {
   "cell_type": "code",
   "execution_count": 18,
   "metadata": {
    "id": "IU8hN2uf1Zic"
   },
   "outputs": [],
   "source": [
    "predicted_price = sc.inverse_transform(y_pred)"
   ]
  },
  {
   "cell_type": "code",
   "execution_count": 19,
   "metadata": {
    "colab": {
     "base_uri": "https://localhost:8080/",
     "height": 472
    },
    "id": "EfH23mJ71Zic",
    "outputId": "5075b400-68ee-46d8-88d9-93b73cd78f02"
   },
   "outputs": [
    {
     "data": {
      "image/png": "[encoded data removed]",
      "text/plain": [
       "<Figure size 640x480 with 1 Axes>"
      ]
     },
     "metadata": {},
     "output_type": "display_data"
    }
   ],
   "source": [
    "plt.plot(y_test, color = 'red', label = 'Actual Stock Price')\n",
    "plt.plot(predicted_price, color = 'green', label = 'Predicted Stock Price')\n",
    "plt.title('Google stock price prediction')\n",
    "plt.xlabel('Time')\n",
    "plt.ylabel('Stock Price')\n",
    "plt.legend()\n",
    "plt.show()"
   ]
  },
  {
   "cell_type": "code",
   "execution_count": 19,
   "metadata": {
    "id": "0QsmFi2SESXt"
   },
   "outputs": [],
   "source": []
  }
 ],
 "metadata": {
  "colab": {
   "provenance": [],
   "toc_visible": true
  },
  "kernelspec": {
   "display_name": "Python 3 (ipykernel)",
   "language": "python",
   "name": "python3"
  },
  "language_info": {
   "codemirror_mode": {
    "name": "ipython",
    "version": 3
   },
   "file_extension": ".py",
   "mimetype": "text/x-python",
   "name": "python",
   "nbconvert_exporter": "python",
   "pygments_lexer": "ipython3",
   "version": "3.9.0"
  }
 },
 "nbformat": 4,
 "nbformat_minor": 1
}
